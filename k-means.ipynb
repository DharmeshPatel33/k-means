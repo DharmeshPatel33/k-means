{
 "cells": [
  {
   "cell_type": "code",
   "execution_count": 1,
   "metadata": {},
   "outputs": [],
   "source": [
    "import numpy as np\n",
    "import matplotlib.pyplot as plt\n",
    "%matplotlib inline"
   ]
  },
  {
   "cell_type": "code",
   "execution_count": 2,
   "metadata": {},
   "outputs": [],
   "source": [
    "MIN = 1\n",
    "MAX = 100\n",
    "NUM_DATA = 100\n",
    "K = 3"
   ]
  },
  {
   "cell_type": "code",
   "execution_count": 3,
   "metadata": {},
   "outputs": [],
   "source": [
    "x = np.random.randint(MIN, MAX, NUM_DATA)\n",
    "y = np.random.randint(MIN, MAX, NUM_DATA)\n",
    "\n",
    "data = np.array([x, y])\n",
    "data = np.reshape(data, (NUM_DATA, 2))\n",
    "clusters = np.zeros(NUM_DATA)"
   ]
  },
  {
   "cell_type": "code",
   "execution_count": 4,
   "metadata": {},
   "outputs": [
    {
     "data": {
      "text/plain": [
       "(100, 2)"
      ]
     },
     "execution_count": 4,
     "metadata": {},
     "output_type": "execute_result"
    }
   ],
   "source": [
    "data.shape"
   ]
  },
  {
   "cell_type": "code",
   "execution_count": 6,
   "metadata": {},
   "outputs": [
    {
     "name": "stdout",
     "output_type": "stream",
     "text": [
      "[[89, 9], [85, 54], [12, 31]]\n"
     ]
    }
   ],
   "source": [
    "centroids = [ [np.random.randint(MAX), np.random.randint(MAX)] for i in range(K)]\n",
    "\n",
    "print(centroids)"
   ]
  },
  {
   "cell_type": "code",
   "execution_count": 7,
   "metadata": {},
   "outputs": [],
   "source": [
    "def assign():\n",
    "    updated_clusters = np.zeros(NUM_DATA)\n",
    "    for data_idx, value in enumerate(data):\n",
    "        min_distance = 1000.0\n",
    "        cluster_idx = 0\n",
    "        for i, centroid in enumerate(centroids):\n",
    "            distance = (value[0] - centroid[0]) ** 2 + (value[1] - centroid[1]) ** 2\n",
    "            if distance < min_distance:\n",
    "                min_distance = distance\n",
    "                cluster_idx = i\n",
    "        \n",
    "        updated_clusters[data_idx] = cluster_idx\n",
    "    \n",
    "    return updated_clusters"
   ]
  },
  {
   "cell_type": "code",
   "execution_count": 8,
   "metadata": {},
   "outputs": [],
   "source": [
    "def visualize():\n",
    "    fig = plt.figure(figsize=(5, 5))\n",
    "\n",
    "    colmap = {0: 'r', 1: 'g', 2: 'b'}\n",
    "\n",
    "    for i, value in enumerate(data):\n",
    "        plt.scatter(value[0], value[1], color=colmap[clusters[i]], alpha=0.5)\n",
    "        \n",
    "    for i, centroid in enumerate(centroids):\n",
    "        plt.scatter(centroid[0], centroid[1], color=colmap[i])\n",
    "\n",
    "    plt.xlim(MIN, MAX)\n",
    "    plt.ylim(MIN, MAX)\n",
    "    plt.show() "
   ]
  },
  {
   "cell_type": "code",
   "execution_count": 9,
   "metadata": {},
   "outputs": [],
   "source": [
    "def update_centroids():\n",
    "    for i in range(K):\n",
    "        indexes = clusters == i\n",
    "        cluster = data[indexes]\n",
    "\n",
    "        centroids[i][0] = np.mean(cluster[:,0])\n",
    "        centroids[i][1] = np.mean(cluster[:,1])"
   ]
  },
  {
   "cell_type": "code",
   "execution_count": 12,
   "metadata": {},
   "outputs": [
    {
     "data": {
      "image/png": "[encoded data removed]",
      "text/plain": [
       "<matplotlib.figure.Figure at 0x24426cd74a8>"
      ]
     },
     "metadata": {},
     "output_type": "display_data"
    }
   ],
   "source": [
    "clusters = assign()\n",
    "visualize()"
   ]
  },
  {
   "cell_type": "code",
   "execution_count": 16,
   "metadata": {},
   "outputs": [],
   "source": [
    "while True:\n",
    "    update_centroids()\n",
    "    updated_clusters = assign()\n",
    "    \n",
    "    if np.array_equal(updated_clusters, clusters) == True:\n",
    "        break\n",
    "        \n",
    "    clusters = updated_clusters"
   ]
  },
  {
   "cell_type": "code",
   "execution_count": 17,
   "metadata": {},
   "outputs": [
    {
     "data": {
      "image/png": "[encoded data removed]",
      "text/plain": [
       "<matplotlib.figure.Figure at 0x24427c7bba8>"
      ]
     },
     "metadata": {},
     "output_type": "display_data"
    }
   ],
   "source": [
    "visualize()"
   ]
  },
  {
   "cell_type": "code",
   "execution_count": null,
   "metadata": {},
   "outputs": [],
   "source": []
  }
 ],
 "metadata": {
  "kernelspec": {
   "display_name": "Python 3",
   "language": "python",
   "name": "python3"
  },
  "language_info": {
   "codemirror_mode": {
    "name": "ipython",
    "version": 3
   },
   "file_extension": ".py",
   "mimetype": "text/x-python",
   "name": "python",
   "nbconvert_exporter": "python",
   "pygments_lexer": "ipython3",
   "version": "3.6.4"
  }
 },
 "nbformat": 4,
 "nbformat_minor": 2
}
